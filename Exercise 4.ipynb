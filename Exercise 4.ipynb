{
 "cells": [
  {
   "cell_type": "code",
   "execution_count": 1,
   "metadata": {},
   "outputs": [],
   "source": [
    "#Exercise 4: For Loops and If Conditions"
   ]
  },
  {
   "cell_type": "code",
   "execution_count": 3,
   "metadata": {},
   "outputs": [],
   "source": [
    "import nltk"
   ]
  },
  {
   "cell_type": "code",
   "execution_count": 4,
   "metadata": {},
   "outputs": [
    {
     "name": "stdout",
     "output_type": "stream",
     "text": [
      "*** Introductory Examples for the NLTK Book ***\n",
      "Loading text1, ..., text9 and sent1, ..., sent9\n",
      "Type the name of the text or sentence to view it.\n",
      "Type: 'texts()' or 'sents()' to list the materials.\n",
      "text1: Moby Dick by Herman Melville 1851\n",
      "text2: Sense and Sensibility by Jane Austen 1811\n",
      "text3: The Book of Genesis\n",
      "text4: Inaugural Address Corpus\n",
      "text5: Chat Corpus\n",
      "text6: Monty Python and the Holy Grail\n",
      "text7: Wall Street Journal\n",
      "text8: Personals Corpus\n",
      "text9: The Man Who Was Thursday by G . K . Chesterton 1908\n"
     ]
    }
   ],
   "source": [
    "from nltk.book import *"
   ]
  },
  {
   "cell_type": "code",
   "execution_count": 7,
   "metadata": {},
   "outputs": [
    {
     "name": "stdout",
     "output_type": "stream",
     "text": [
      "<Text: Chat Corpus>\n"
     ]
    }
   ],
   "source": [
    "print(text5)"
   ]
  },
  {
   "cell_type": "code",
   "execution_count": 9,
   "metadata": {
    "scrolled": true
   },
   "outputs": [
    {
     "name": "stdout",
     "output_type": "stream",
     "text": [
      "showing info https://raw.githubusercontent.com/nltk/nltk_data/gh-pages/index.xml\n"
     ]
    },
    {
     "data": {
      "text/plain": [
       "True"
      ]
     },
     "execution_count": 9,
     "metadata": {},
     "output_type": "execute_result"
    }
   ],
   "source": [
    "nltk.download()"
   ]
  },
  {
   "cell_type": "code",
   "execution_count": 33,
   "metadata": {},
   "outputs": [],
   "source": [
    "#Exercise 1\n",
    "#Printing every word beginning with 'b' in alphabetical order from the Chat Corpus"
   ]
  },
  {
   "cell_type": "code",
   "execution_count": 25,
   "metadata": {},
   "outputs": [],
   "source": [
    "words = set(text5)"
   ]
  },
  {
   "cell_type": "code",
   "execution_count": 31,
   "metadata": {},
   "outputs": [],
   "source": [
    "bees = sorted(w for w in words if w.startswith(\"b\"))"
   ]
  },
  {
   "cell_type": "code",
   "execution_count": 32,
   "metadata": {},
   "outputs": [
    {
     "name": "stdout",
     "output_type": "stream",
     "text": [
      "['b', 'b-day', 'b/c', 'b4', 'babay', 'babble', 'babblein', 'babe', 'babes', 'babi', 'babies', 'babiess', 'baby', 'babycakeses', 'bachelorette', 'back', 'backatchya', 'backfrontsidewaysandallaroundtheworld', 'backroom', 'backup', 'bacl', 'bad', 'bag', 'bagel', 'bagels', 'bahahahaa', 'bak', 'baked', 'balad', 'balance', 'balck', 'ball', 'ballin', 'balls', 'ban', 'band', 'bandito', 'bandsaw', 'banjoes', 'banned', 'baord', 'bar', 'barbie', 'bare', 'barely', 'bares', 'barfights', 'barks', 'barn', 'barrel', 'base', 'bases', 'basically', 'basket', 'battery', 'bay', 'bbbbbyyyyyyyeeeeeeeee', 'bbiam', 'bbl', 'bbs', 'bc', 'be', 'beach', 'beachhhh', 'beam', 'beams', 'beanbag', 'beans', 'bear', 'bears', 'beat', 'beaten', 'beatles', 'beats', 'beattles', 'beautiful', 'because', 'beckley', 'become', 'bed', 'bedford', 'bedroom', 'beeeeehave', 'beeehave', 'been', 'beer', 'before', 'beg', 'begin', 'behave', 'behind', 'bein', 'being', 'beleive', 'believe', 'belive', 'bell', 'belly', 'belong', 'belongings', 'ben', 'bend', 'benz', 'bes', 'beside', 'besides', 'best', 'bet', 'betrayal', 'betta', 'better', 'between', 'beuty', 'bf', 'bi', 'biatch', 'bible', 'biebsa', 'bied', 'big', 'bigest', 'biggest', 'biiiatch', 'bike', 'bikes', 'bikini', 'bio', 'bird', 'birfday', 'birthday', 'bisexual', 'bishes', 'bit', 'bitch', 'bitches', 'bitdh', 'bite', 'bites', 'biyatch', 'biz', 'bj', 'black', 'blade', 'blah', 'blank', 'blankie', 'blazed', 'bleach', 'blech', 'bless', 'blessings', 'blew', 'blind', 'blinks', 'bliss', 'blocking', 'bloe', 'blood', 'blooded', 'bloody', 'blow', 'blowing', 'blowjob', 'blowup', 'blue', 'blueberry', 'bluer', 'blues', 'blunt', 'board', 'bob', 'bodies', 'body', 'boed', 'boght', 'boi', 'boing', 'boinked', 'bois', 'bomb', 'bone', 'boned', 'bones', 'bong', 'boning', 'bonus', 'boo', 'booboo', 'boobs', 'book', 'boom', 'boooooooooooglyyyyyy', 'boost', 'boot', 'bootay', 'booted', 'boots', 'booty', 'border', 'borderline', 'bored', 'boredom', 'boring', 'born', 'born-again', 'bosom', 'boss', 'bossy', 'bot', 'both', 'bother', 'bothering', 'bottle', 'bought', 'bounced', 'bouncer', 'bouncers', 'bound', 'bout', 'bouts', 'bow', 'bowl', 'box', 'boy', 'boyfriend', 'boys', 'bra', 'brad', 'brady', 'brain', 'brakes', 'brass', 'brat', 'brb', 'brbbb', 'bread', 'break', 'breaks', 'breath', 'breathe', 'bred', 'breeding', 'bright', 'brightened', 'bring', 'brings', 'bro', 'broke', 'brooklyn', 'brother', 'brothers', 'brought', 'brown', 'brrrrrrr', 'bruises', 'brunswick', 'brwn', 'btw', 'bucks', 'buddyyyyyy', 'buff', 'buffalo', 'bug', 'bugs', 'buh', 'build', 'builds', 'built', 'bull', 'bulls', 'bum', 'bumber', 'bummer', 'bumped', 'bumper', 'bunch', 'bunny', 'burger', 'burito', 'burned', 'burns', 'burp', 'burpin', 'burps', 'burried', 'burryed', 'bus', 'buses', 'bust', 'busted', 'busy', 'but', 'butt', 'butter', 'butterscotch', 'button', 'buttons', 'buy', 'buying', 'bwahahahahahahahahahaha', 'by', 'byb', 'bye', 'byeee', 'byeeee', 'byeeeeeeee', 'byeeeeeeeeeeeee', 'byes']\n"
     ]
    }
   ],
   "source": [
    "print(bees)"
   ]
  },
  {
   "cell_type": "code",
   "execution_count": 34,
   "metadata": {},
   "outputs": [],
   "source": [
    "#Exercise 2\n",
    "#Printing all the uppercase words in Monty Python on new lines"
   ]
  },
  {
   "cell_type": "code",
   "execution_count": 35,
   "metadata": {},
   "outputs": [],
   "source": [
    "python_words = set(text6)"
   ]
  },
  {
   "cell_type": "code",
   "execution_count": 36,
   "metadata": {},
   "outputs": [],
   "source": [
    "yelling = [w for w in python_words if w.isupper()]"
   ]
  },
  {
   "cell_type": "code",
   "execution_count": 39,
   "metadata": {},
   "outputs": [
    {
     "name": "stdout",
     "output_type": "stream",
     "text": [
      "A\n",
      "\n",
      "HISTORIAN\n",
      "\n",
      "RANDOM\n",
      "\n",
      "GUEST\n",
      "\n",
      "GUARDS\n",
      "\n",
      "MAN\n",
      "\n",
      "MAYNARD\n",
      "\n",
      "FATHER\n",
      "\n",
      "ARTHUR\n",
      "\n",
      "DENNIS\n",
      "\n",
      "MIDDLE\n",
      "\n",
      "OTHER\n",
      "\n",
      "RIGHT\n",
      "\n",
      "SUN\n",
      "\n",
      "MASTER\n",
      "\n",
      "INSPECTOR\n",
      "\n",
      "N\n",
      "\n",
      "CROWD\n",
      "\n",
      "CHARACTERS\n",
      "\n",
      "BLACK\n",
      "\n",
      "PRISONER\n",
      "\n",
      "CONCORDE\n",
      "\n",
      "HEAD\n",
      "\n",
      "PIGLET\n",
      "\n",
      "MINSTREL\n",
      "\n",
      "O\n",
      "\n",
      "OF\n",
      "\n",
      "OFFICER\n",
      "\n",
      "SECOND\n",
      "\n",
      "DINGO\n",
      "\n",
      "B\n",
      "\n",
      "KNIGHTS\n",
      "\n",
      "VOICE\n",
      "\n",
      "MIDGET\n",
      "\n",
      "HEADS\n",
      "\n",
      "GIRLS\n",
      "\n",
      "CARTOON\n",
      "\n",
      "BRIDE\n",
      "\n",
      "S\n",
      "\n",
      "ANIMATOR\n",
      "\n",
      "WOMAN\n",
      "\n",
      "CRAPPER\n",
      "\n",
      "NARRATOR\n",
      "\n",
      "GUARD\n",
      "\n",
      "LEFT\n",
      "\n",
      "LUCKY\n",
      "\n",
      "TIM\n",
      "\n",
      "I\n",
      "\n",
      "CART\n",
      "\n",
      "GREEN\n",
      "\n",
      "VILLAGER\n",
      "\n",
      "BROTHER\n",
      "\n",
      "WINSTON\n",
      "\n",
      "KING\n",
      "\n",
      "LAUNCELOT\n",
      "\n",
      "BEDEVERE\n",
      "\n",
      "MONKS\n",
      "\n",
      "CRASH\n",
      "\n",
      "CUSTOMER\n",
      "\n",
      "HERBERT\n",
      "\n",
      "ARMY\n",
      "\n",
      "BORS\n",
      "\n",
      "GALAHAD\n",
      "\n",
      "W\n",
      "\n",
      "SOLDIER\n",
      "\n",
      "ROBIN\n",
      "\n",
      "THE\n",
      "\n",
      "CHARACTER\n",
      "\n",
      "U\n",
      "\n",
      "STUNNER\n",
      "\n",
      "DEAD\n",
      "\n",
      "PATSY\n",
      "\n",
      "PRINCE\n",
      "\n",
      "OLD\n",
      "\n",
      "Y\n",
      "\n",
      "PERSON\n",
      "\n",
      "VILLAGERS\n",
      "\n",
      "SCENE\n",
      "\n",
      "CRONE\n",
      "\n",
      "FRENCH\n",
      "\n",
      "GUESTS\n",
      "\n",
      "SIR\n",
      "\n",
      "CAMERAMAN\n",
      "\n",
      "ROGER\n",
      "\n",
      "SHRUBBER\n",
      "\n",
      "KNIGHT\n",
      "\n",
      "LOVELY\n",
      "\n",
      "NI\n",
      "\n",
      "PARTY\n",
      "\n",
      "ALL\n",
      "\n",
      "PRINCESS\n",
      "\n",
      "BRIDGEKEEPER\n",
      "\n",
      "ENCHANTER\n",
      "\n",
      "SENTRY\n",
      "\n",
      "GOD\n",
      "\n",
      "ZOOT\n",
      "\n",
      "DIRECTOR\n",
      "\n",
      "AMAZING\n",
      "\n",
      "WITCH\n",
      "\n",
      "WIFE\n",
      "\n",
      "C\n",
      "\n"
     ]
    }
   ],
   "source": [
    "for word in yelling:\n",
    "    print(word+ \"\\n\")"
   ]
  },
  {
   "cell_type": "code",
   "execution_count": 41,
   "metadata": {},
   "outputs": [],
   "source": [
    "#Reflections\n",
    "\n",
    "# When faced with a new programming task, one should always write pseudo-code: without worrying about accurate syntax,\n",
    "# enumerate the tasks that need to be completed and the order they need to be completed in to get the desired result.\n",
    "# To me this would include any \"for\" loops, \"while\" loops, and \"if\" statements, and any nesting needed among these.\n",
    "# I'm not quite \"there\" yet, but ideally at this point one can think about potentially more streamlined and elegant ways\n",
    "# to accomplish the same task.\n",
    "# Once the \"logic\" of the program is worked out, actual code can be written and tested."
   ]
  },
  {
   "cell_type": "code",
   "execution_count": null,
   "metadata": {},
   "outputs": [],
   "source": []
  }
 ],
 "metadata": {
  "kernelspec": {
   "display_name": "Python 3",
   "language": "python",
   "name": "python3"
  },
  "language_info": {
   "codemirror_mode": {
    "name": "ipython",
    "version": 3
   },
   "file_extension": ".py",
   "mimetype": "text/x-python",
   "name": "python",
   "nbconvert_exporter": "python",
   "pygments_lexer": "ipython3",
   "version": "3.7.1"
  }
 },
 "nbformat": 4,
 "nbformat_minor": 2
}
